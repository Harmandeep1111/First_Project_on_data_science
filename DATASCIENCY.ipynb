## <b> Since 2008, guests and hosts have used Airbnb to expand on traveling possibilities and present a more unique, personalized way of experiencing the world. Today, Airbnb became one of a kind service that is used and recognized by the whole world. Data analysis on millions of listings provided through Airbnb is a crucial factor for the company. These millions of listings generate a lot of data - data that can be analyzed and used for security, business decisions, understanding of customers' and providers' (hosts) behavior and performance on the platform, guiding marketing initiatives, implementation of innovative additional services and much more. </b>

## <b>This dataset has around 49,000 observations in it with 16 columns and it is a mix between categorical and numeric values. </b>

## <b> Explore and analyze the data to discover key understandings (not limited to these) such as :
* What can we learn about different hosts and areas?
* What can we learn from predictions? (ex: locations, prices, reviews, etc)
* Which hosts are the busiest and why?
* Is there any noticeable difference of traffic among different areas and what could be the reason for it? </b>

# Dataset contain:

* id: listing ID

* name: name of the listing

* host_id: host ID

* host_name: name of the host

* neighbourhood_group: location

* neighbourhood: area

* latitude: latitude coordinates

* longitude: longitude coordinates

* room_type: listing space type

* price: price in dollars

* minimum_nights: amount of nights minimum

* number_of_reviews: number of reviews

* last_review: latest review

* reviews_per_month: number of reviews per month

* calculated_host_listings_count: amount of listing per host

* availability_365: number of days when listing is available for booking

# Note: Hover your cursor on the charts to know the numeric value....
import pandas as pd 
import numpy as np
import seaborn as sns
from matplotlib import pyplot as plt
import plotly 
import plotly.express as px
df=pd.read_csv("Airbnb NYC 2019 (1).csv")
df.head()

df.info()

df["last_review"]=pd.to_datetime(df["last_review"],format="%Y-%m-%d")
df["last_review"]

df.info()

df.isnull().sum()

df.info()

df.info()

df.loc[df['last_review'] == 'NaT', 'last_review'] = np.nan
df.info()

df['last_review']

df.duplicated().sum()

df.nunique()

#Question Starts
df.columns

#What type of rooms are mostly demanded?
demanded_rooms=df['room_type'].value_counts().reset_index()
demanded_rooms

fig=px.bar(demanded_rooms,x="index",y="room_type",title="Mostly Demanded Rooms By Guests")
fig.update_layout(xaxis_title="Room Type", yaxis_title="Counts")
fig.show()

**From the above Bar chart, it is cleared that the demand for the Entire home/Apartment is more, followed by Private room and then Shared room.**

#Which rooms are good compared to other on basis of price?
best_room=df.groupby("room_type")["price"].mean()
best_room=best_room.round(2)
best_room



fig=px.pie(best_room,values=best_room.values,names=best_room.index,title=("Comparison of Price base on Room type"))
fig.show()

**From the pie chart above, it is evident that the price of full apartments is significantly higher than that of private and shared rooms.**

#What are the preferences of guest on night stay?
fig=px.scatter(df,y="minimum_nights",x="number_of_reviews",title="Preferences of Night Stay By Guests")
fig.update_layout(xaxis_title="Reviews Per Month", yaxis_title="Minimum Nights")
fig.show()

**From the histogram above, it is evident that customers tend to book places where the minimum stay is 1 night or close to 1 night.**

#Comparison of price Across different neighbourhood groups
compared_price=df.groupby("neighbourhood_group")["price"].mean().reset_index()


fig=px.bar(compared_price,x="neighbourhood_group",y="price",title="Price($) of Different Neighbourhood Groups",text_auto=True)
fig.update_layout(xaxis_title="Neighbourhood Group", yaxis_title="Price")
fig.show()

**Above the bar plot, tell us that: The price of rooms in Manhattan reigns supreme, casting its shadow over Queens, Brooklyn, Staten Island, and the Bronx.**

df.dropna(inplace=True)

df.info()

df["year"]=df["last_review"].dt.year
df.head(1)
df['year']=df["year"].astype(int)
df["year"]
df.head(1)

df["month"]=df["last_review"].dt.month



df[df["year"]==2019]

df['month'] = pd.to_datetime(df['month'],format='%m').dt.month_name()

df["booked"]=365-df["availability_365"]
df["booked"]

#Year wise trend of booked rooms
yearly=df.groupby(["year","month"])["booked"].mean().reset_index()
yearly


fig = px.bar(yearly, x="month", y="booked", color="year", barmode="group",title="Total Number of Booked days by Year")
fig.update_layout(xaxis_title="Month", yaxis_title="Availability_365")
fig.show()


**The bar chart above clearly illustrates that bookings in the month of June 2019 significantly surpass those in any other month or year. It can be because of summer season when everyone is more inclined to travel new destinations. Students are also at Vacations and families plan for new trips**

#Popular Neighbourhood Groups
popular_grps=df["neighbourhood_group"].value_counts()


fig=px.pie(popular_grps,values=popular_grps.values,names=popular_grps.index,title="Popularity of Neighbourhood Group")
fig.update_layout(title_text="Neighborhood Group Distribution",annotations=[dict(text="""This chart shows the distribution of neighborhood groups""",x=0.5,y=-0.1, showarrow=False)])
fig.show()

**The pie chart above clearly indicates that guests have a strong preference for traveling to Manhattan and Brooklyn, while the popularity of Queens, Bronx, and Staten Island remains comparatively lower.**

# Who is the busiest host?
groupped=df.groupby("host_name")[["availability_365","calculated_host_listings_count"]].max()
new_grp=groupped.sort_values(by=["availability_365","calculated_host_listings_count"],ascending=False)
busy_list=new_grp.head(10).reset_index()
busy_list

fig=px.bar(busy_list,x="host_name",y="calculated_host_listings_count",color="availability_365",barmode="group",title="Top 10 Busiest Hosts")
fig.update_layout(xaxis_title="Host Name",yaxis_title="Calculated_host_listing_count")
fig.show()

**Above Bar Chart communicates that: Host named "Kara"takes the lead as the busiest host, followed by "laura","Sounder",and "Ken" while the others are lowering down giving competetion to each other.**

#Changes in price over years
change_in_price=df.groupby(["year","room_type"])["price"].mean()
fluctuation=change_in_price.round(2).reset_index()


fig=px.line(fluctuation,x="year",y="price",color="room_type",text="year",markers=True,title="Changes in the Price($) of rooms over the years")
fig.update_layout(xaxis_title="Year",yaxis_title="Price")
fig.show()

**Above line Chart tell us that:Full apartments reached their peak price in 2013 but have since declined. Private rooms, on the other hand, peaked in 2011 and suufering with ups and downs, have remained relatively stable for last 2 years. Meanwhile, shared rooms initially had a stable price of 110, experienced fluctuations, and ultimately declined significantly by 2019.**

# In which month most of the booking take place for last 5 years
last_five=df[(df["year"]>=2015) & (df["year"]<=2019)]
last_five_yrs=last_five.groupby("month")["reviews_per_month"].sum()
new_one=last_five_yrs.reset_index()
new_one


fig=px.bar(new_one,x="month",y="reviews_per_month",title="Bookings for the last 5 years")
fig.update_layout(xaxis_title="Month",yaxis_title="Reviews per Month")
fig.show()

**From the Bar graph it can be easily seen that:In the last 5 years, Bookings in june take place more compared to other month**

df.columns

# Change of Price on different location over the years
location_based=df.groupby(["year","neighbourhood_group"])['price'].mean()
located_data=location_based.round(2).reset_index()



fig=px.line(located_data,x="year",y="price",color="neighbourhood_group",markers=True,title="Price($) Fluctuation on  Different locations over the years")
fig.update_layout(xaxis_title='Year',yaxis_title="Price")
fig.show()

**From the above line chart insights are: The price of rooms in Manhattan was nearer to 100 and immediately catch a peak nearer 370 in 2013 and declines to 200 in 2014 and after fluctuations it is around 180 in 2019.The Price of rooms in Brooklyn was arounf 200 at starting in 2011 and declines after it and remains almost stable till 2019. The price of rooms in Queens started around 150  and after fluctuations gets its peak in 2016 and stays stable for last 3 years.The price of rooms in Bronx is around 60 in 2011a and after sufferings it also stable in 2019 and the price of rooms in Staten Island started at 75 and gets unexpected hike around 380 in 2015 and lower downs to its worst and after some revival remains stable in 2019.**

# What is the preferences of Guest on different locations
loved_location=df.groupby(["neighbourhood_group","room_type"])["number_of_reviews"].mean()
loved_up=loved_location.round(2).reset_index()
loved_up

fig=px.bar(loved_up,x='neighbourhood_group',y="number_of_reviews",color="room_type",text="room_type",title='Preferences of Room type on Different Locations by Guests')
fig.update_layout(xaxis_title="Neighbourhood Group",yaxis_title="Number of Reviews")

**From above charts it is cleared that: Guests preferred more full apartment followed by private room and then shared room. Whereas in the Brooklyn preference ratio of full apartment to private room is almost same as the Bronx but shared rooms were also booked.Manhattan is leading for the preferences for shared rooms with almost same ratio of private and full apartments. The number of shared room in Staten Island is somehow negligible and has prefrences of private and full apartment same to the Queens where liking for shared rooms is more than Island.**

**Conclusion:\
-The Most prefereed place by guests is Manhattan.\
-The Overall Price for Full apartment after fluctuations remains same as it was at the beginning.\
-The Overall Price for Private and Shared rooms declines a lot over the years.\
-Month of June leads over other months when guests travelled more.\
-In every loaction, the price for Full apartment is higher than other two.\
-The Price of rooms in Manhattan increases compared to all other locations available.\
-Kara, Laura and Sonder are enlighting the chart of most busiest host over others.\
-The Place hosted by hosts which has minimum nights 1 or nearer to 1 were preferred more.**
